{
  "nbformat": 4,
  "nbformat_minor": 0,
  "metadata": {
    "colab": {
      "provenance": []
    },
    "kernelspec": {
      "name": "python3",
      "display_name": "Python 3"
    },
    "language_info": {
      "name": "python"
    }
  },
  "cells": [
    {
      "cell_type": "markdown",
      "source": [
        "1. What is a Decision Tree, and how does it work?\n",
        "A Decision Tree is a supervised learning algorithm used for classification and regression tasks. It works by splitting the dataset into smaller subsets based on feature values, creating a tree structure where each node represents a decision rule, and each leaf represents a final output or class.\n",
        "\n",
        " 2. What are impurity measures in Decision Trees ?\n",
        " Impurity measures quantify the \"mixedness\" of classes in a dataset at a node. Common impurity measures are:\n",
        "\n",
        "Gini Impurity: Measures the probability of misclassifying a randomly chosen element.\n",
        "\n",
        "Entropy: Measures the information content or uncertainty in the dataset.\n",
        "\n",
        "3. What is the mathematical formula for Gini Impurity?\n",
        "G=1− i=1∑Cp i2\n",
        "Where:\n",
        "pi​ is the proportion of instances belonging to class i.\n",
        "\n",
        "C is the total number of classes.\n",
        "\n",
        " 4. What is the mathematical formula for Entropy?\n",
        "\n",
        " H=−i=1∑Cpi log 2​ (pi)\n",
        "\n",
        " 5. What is Information Gain, and how is it used in Decision Trees ?\n",
        " Information Gain is the reduction in entropy or impurity after a dataset is split on a feature. It is used to determine the best feature for splitting at each step of building the tree:\n",
        "𝐼𝐺=𝐻𝑝𝑎𝑟𝑒𝑛𝑡−∑𝑖=1𝑘𝑛𝑖𝑛𝑡𝑜𝑡𝑎𝑙𝐻𝑖IG=H parent​ − i=1∑k/n totalniHi\n",
        "\n",
        "6. What is the difference between Gini Impurity and Entropy ?\n",
        "Gini Impurity: Focuses on the probability of misclassification and is computationally faster.\n",
        "\n",
        "Entropy: Measures information gain and accounts for uncertainty. It is more sensitive to class distribution.\n",
        "\n",
        "7. What is the mathematical explanation behind Decision Trees ?\n",
        " A Decision Tree works by recursively partitioning the dataset using a greedy algorithm that selects the split minimizing impurity (Gini/Entropy) or maximizing Information Gain. At each step, the algorithm evaluates all possible splits and chooses the one yielding the highest reduction in impurity.\n",
        "\n",
        "8. What is Pre-Pruning in Decision Trees ?\n",
        " Pre-pruning stops tree growth early by setting constraints like a maximum depth, minimum samples per split, or a threshold for impurity reduction.\n",
        "\n",
        "9. What is Post-Pruning in Decision Trees?\n",
        "Post-pruning removes branches from a fully grown tree to reduce overfitting. This is done by evaluating the performance of branches on validation data\n",
        "\n",
        " 10. What is the difference between Pre-Pruning and Post-Pruning ?\n",
        "Pre-Pruning: Stops tree growth early, preventing overfitting at the cost of underfitting.\n",
        "\n",
        "Post-Pruning: Grows the tree fully and removes overfitting branches later.\n",
        "\n",
        "\n",
        "11. What is a Decision Tree Regressor?\n",
        "A Decision Tree Regressor predicts continuous values by partitioning the data space into regions and assigning the mean or median value of the target variable within each region as the prediction.\n",
        "\n",
        " 12. What are the advantages and disadvantages of Decision Trees?\n",
        " Advantages:\n",
        "\n",
        "Easy to interpret and visualize.\n",
        "\n",
        "Handles both numerical and categorical data.\n",
        "\n",
        "Requires little data preprocessing.\n",
        "\n",
        "Disadvantages:\n",
        "\n",
        "Prone to overfitting.\n",
        "\n",
        "Sensitive to small data changes (high variance).\n",
        "\n",
        "Can create biased splits in imbalanced datasets.\n",
        "\n",
        "\n",
        " 13. How does a Decision Tree handle missing values?\n",
        " Imputation: Replace missing values with the mean/median for numerical or mode for categorical features.\n",
        "\n",
        "Surrogate Splits: Use alternative features that mimic the split decision of the missing value.\n",
        "\n",
        " 14. How does a Decision Tree handle categorical features?\n",
        " Decision Trees handle categorical features by evaluating all possible splits of categories (e.g., binary split: 𝐴∈{𝑥,𝑦}A∈{x,y} vs. 𝐴∉{𝑥,𝑦}A∈/{x,y}) and choosing the one that maximizes Information Gain or minimizes impurity.\n",
        "\n",
        "\n",
        " 15. What are some real-world applications of Decision Trees?\n",
        " Healthcare: Diagnosing diseases.\n",
        "\n",
        "Finance: Credit risk assessment.\n",
        "\n",
        "Retail: Customer segmentation and recommendation systems.\n",
        "\n",
        "Manufacturing: Quality control and fault detection.\n",
        "\n",
        "Education: Predicting student performance.\n"
      ],
      "metadata": {
        "id": "YSbLeQFrkX9N"
      }
    },
    {
      "cell_type": "code",
      "source": [
        "#16. Write a Python program to train a Decision Tree Classifier on the Iris dataset and print the model accuracy\n",
        "\n",
        "\n",
        "from sklearn.datasets import load_iris\n",
        "from sklearn.tree import DecisionTreeClassifier\n",
        "from sklearn.model_selection import train_test_split\n",
        "from sklearn.metrics import accuracy_score\n",
        "\n",
        "iris = load_iris()\n",
        "X_train, X_test, y_train, y_test = train_test_split(iris.data, iris.target, test_size=0.3, random_state=42)\n",
        "clf = DecisionTreeClassifier()\n",
        "clf.fit(X_train, y_train)\n",
        "y_pred = clf.predict(X_test)\n",
        "print(\"Accuracy:\", accuracy_score(y_test, y_pred))\n"
      ],
      "metadata": {
        "colab": {
          "base_uri": "https://localhost:8080/"
        },
        "id": "Mt0Yw6T1sIay",
        "outputId": "d422466f-2ecf-433c-ff78-b01afa2acf7e"
      },
      "execution_count": 1,
      "outputs": [
        {
          "output_type": "stream",
          "name": "stdout",
          "text": [
            "Accuracy: 1.0\n"
          ]
        }
      ]
    },
    {
      "cell_type": "code",
      "source": [
        "#17. Write a Python program to train a Decision Tree Classifier using Gini Impurity as the criterion and print the feature importances\n",
        "clf = DecisionTreeClassifier(criterion='gini')\n",
        "clf.fit(X_train, y_train)\n",
        "print(\"Feature Importances:\", clf.feature_importances_)\n"
      ],
      "metadata": {
        "colab": {
          "base_uri": "https://localhost:8080/"
        },
        "id": "yh1lXGzstSK6",
        "outputId": "771a5ece-5dd8-4274-bae5-8f50d89858a4"
      },
      "execution_count": 2,
      "outputs": [
        {
          "output_type": "stream",
          "name": "stdout",
          "text": [
            "Feature Importances: [0.01911002 0.01911002 0.40445656 0.5573234 ]\n"
          ]
        }
      ]
    },
    {
      "cell_type": "code",
      "source": [
        "#18. Write a Python program to train a Decision Tree Classifier using Entropy as the splitting criterion and print the model accuracy\n",
        "clf = DecisionTreeClassifier(criterion='entropy')\n",
        "clf.fit(X_train, y_train)\n",
        "y_pred = clf.predict(X_test)\n",
        "print(\"Accuracy (Entropy):\", accuracy_score(y_test, y_pred))\n"
      ],
      "metadata": {
        "colab": {
          "base_uri": "https://localhost:8080/"
        },
        "id": "3UyHwkRetSea",
        "outputId": "bb8488dc-d10a-40b3-b228-433096c216b9"
      },
      "execution_count": 3,
      "outputs": [
        {
          "output_type": "stream",
          "name": "stdout",
          "text": [
            "Accuracy (Entropy): 1.0\n"
          ]
        }
      ]
    },
    {
      "cell_type": "code",
      "source": [
        "#19. Write a Python program to train a Decision Tree Regressor on a housing dataset and evaluate using Mean Squared Error (MSE)\n",
        "from sklearn.datasets import fetch_california_housing\n",
        "from sklearn.tree import DecisionTreeRegressor\n",
        "from sklearn.metrics import mean_squared_error\n",
        "\n",
        "data = fetch_california_housing()\n",
        "X_train, X_test, y_train, y_test = train_test_split(data.data, data.target, test_size=0.3, random_state=42)\n",
        "reg = DecisionTreeRegressor()\n",
        "reg.fit(X_train, y_train)\n",
        "y_pred = reg.predict(X_test)\n",
        "print(\"MSE:\", mean_squared_error(y_test, y_pred))\n"
      ],
      "metadata": {
        "colab": {
          "base_uri": "https://localhost:8080/"
        },
        "id": "R-lJRHZ3tbo0",
        "outputId": "e892a0e8-498b-49ad-f25e-58da789d4cc3"
      },
      "execution_count": 4,
      "outputs": [
        {
          "output_type": "stream",
          "name": "stdout",
          "text": [
            "MSE: 0.5365169034412629\n"
          ]
        }
      ]
    },
    {
      "cell_type": "code",
      "source": [
        "#20. Write a Python program to train a Decision Tree Classifier and visualize the tree using graphviz\n",
        "from sklearn.datasets import load_iris\n",
        "from sklearn.tree import DecisionTreeClassifier, export_graphviz\n",
        "from sklearn.model_selection import train_test_split\n",
        "import graphviz\n",
        "\n",
        "# Load dataset\n",
        "iris = load_iris()\n",
        "X_train, X_test, y_train, y_test = train_test_split(iris.data, iris.target, test_size=0.3, random_state=42)\n",
        "\n",
        "# Train model\n",
        "clf = DecisionTreeClassifier()\n",
        "clf.fit(X_train, y_train)\n",
        "\n",
        "# Visualize using graphviz\n",
        "dot_data = export_graphviz(clf, out_file=None,\n",
        "                           feature_names=iris.feature_names,\n",
        "                           class_names=iris.target_names,\n",
        "                           filled=True, rounded=True,\n",
        "                           special_characters=True)\n",
        "\n",
        "graph = graphviz.Source(dot_data)\n",
        "graph.render(\"iris_tree\", format=\"png\", cleanup=True)\n",
        "graph.view()\n",
        "\n"
      ],
      "metadata": {
        "colab": {
          "base_uri": "https://localhost:8080/",
          "height": 35
        },
        "id": "5Cm5GbG1te22",
        "outputId": "8162b9e4-0164-405b-a16f-8e9e0cce6076"
      },
      "execution_count": 7,
      "outputs": [
        {
          "output_type": "execute_result",
          "data": {
            "text/plain": [
              "'iris_tree.pdf'"
            ],
            "application/vnd.google.colaboratory.intrinsic+json": {
              "type": "string"
            }
          },
          "metadata": {},
          "execution_count": 7
        }
      ]
    },
    {
      "cell_type": "code",
      "source": [
        "#21. Write a Python program to train a Decision Tree Classifier with a maximum depth of 3 and compare its accuracy with a fully grown tree\n",
        "clf_limited = DecisionTreeClassifier(max_depth=3)\n",
        "clf_full = DecisionTreeClassifier()\n",
        "\n",
        "clf_limited.fit(X_train, y_train)\n",
        "clf_full.fit(X_train, y_train)\n",
        "\n",
        "print(\"Accuracy (depth=3):\", accuracy_score(y_test, clf_limited.predict(X_test)))\n",
        "print(\"Accuracy (full tree):\", accuracy_score(y_test, clf_full.predict(X_test)))\n",
        "\n"
      ],
      "metadata": {
        "colab": {
          "base_uri": "https://localhost:8080/"
        },
        "id": "85h_nwiStkBD",
        "outputId": "a09cfdf5-c955-4f36-df76-ff6e0280ca98"
      },
      "execution_count": 8,
      "outputs": [
        {
          "output_type": "stream",
          "name": "stdout",
          "text": [
            "Accuracy (depth=3): 1.0\n",
            "Accuracy (full tree): 1.0\n"
          ]
        }
      ]
    },
    {
      "cell_type": "code",
      "source": [
        "#22. Write a Python program to train a Decision Tree Classifier using min_samples_split=5 and compare its accuracy with a default tree\n",
        "clf_default = DecisionTreeClassifier()\n",
        "clf_custom = DecisionTreeClassifier(min_samples_split=5)\n",
        "\n",
        "clf_default.fit(X_train, y_train)\n",
        "clf_custom.fit(X_train, y_train)\n",
        "\n",
        "print(\"Default Accuracy:\", accuracy_score(y_test, clf_default.predict(X_test)))\n",
        "print(\"min_samples_split=5 Accuracy:\", accuracy_score(y_test, clf_custom.predict(X_test)))\n"
      ],
      "metadata": {
        "colab": {
          "base_uri": "https://localhost:8080/"
        },
        "id": "Q5kHjtcVtoow",
        "outputId": "dfbb6ba5-d07a-491c-dedc-4b6f073072a3"
      },
      "execution_count": 9,
      "outputs": [
        {
          "output_type": "stream",
          "name": "stdout",
          "text": [
            "Default Accuracy: 1.0\n",
            "min_samples_split=5 Accuracy: 1.0\n"
          ]
        }
      ]
    },
    {
      "cell_type": "code",
      "source": [
        "#23. Write a Python program to apply feature scaling before training a Decision Tree Classifier and compare its accuracy with unscaled data\n",
        "from sklearn.preprocessing import StandardScaler\n",
        "\n",
        "scaler = StandardScaler()\n",
        "X_scaled = scaler.fit_transform(iris.data)\n",
        "X_train_s, X_test_s, y_train_s, y_test_s = train_test_split(X_scaled, iris.target, test_size=0.3, random_state=42)\n",
        "\n",
        "clf_unscaled = DecisionTreeClassifier().fit(X_train, y_train)\n",
        "clf_scaled = DecisionTreeClassifier().fit(X_train_s, y_train_s)\n",
        "\n",
        "print(\"Unscaled Accuracy:\", accuracy_score(y_test, clf_unscaled.predict(X_test)))\n",
        "print(\"Scaled Accuracy:\", accuracy_score(y_test_s, clf_scaled.predict(X_test_s)))\n"
      ],
      "metadata": {
        "colab": {
          "base_uri": "https://localhost:8080/"
        },
        "id": "rOnMJIVRtp2_",
        "outputId": "18a142c5-1aea-4460-b3cc-84fa77e4a7d0"
      },
      "execution_count": 10,
      "outputs": [
        {
          "output_type": "stream",
          "name": "stdout",
          "text": [
            "Unscaled Accuracy: 1.0\n",
            "Scaled Accuracy: 1.0\n"
          ]
        }
      ]
    },
    {
      "cell_type": "code",
      "source": [
        "#24. Write a Python program to train a Decision Tree Classifier using One-vs-Rest (OvR) strategy for multiclass classification\n",
        "from sklearn.multiclass import OneVsRestClassifier\n",
        "\n",
        "ovr_clf = OneVsRestClassifier(DecisionTreeClassifier())\n",
        "ovr_clf.fit(X_train, y_train)\n",
        "print(\"OvR Accuracy:\", accuracy_score(y_test, ovr_clf.predict(X_test)))\n"
      ],
      "metadata": {
        "colab": {
          "base_uri": "https://localhost:8080/"
        },
        "id": "NXYsY0KKttvb",
        "outputId": "4119d4fe-777e-4511-eed8-946b281f691f"
      },
      "execution_count": 11,
      "outputs": [
        {
          "output_type": "stream",
          "name": "stdout",
          "text": [
            "OvR Accuracy: 1.0\n"
          ]
        }
      ]
    },
    {
      "cell_type": "code",
      "source": [
        "#25. Write a Python program to train a Decision Tree Classifier and display the feature importance scores\n",
        "clf = DecisionTreeClassifier()\n",
        "clf.fit(X_train, y_train)\n",
        "for name, importance in zip(iris.feature_names, clf.feature_importances_):\n",
        "    print(f\"{name}: {importance:.4f}\")\n"
      ],
      "metadata": {
        "colab": {
          "base_uri": "https://localhost:8080/"
        },
        "id": "iMIy59k6ttx5",
        "outputId": "2bc60abb-9e45-4199-bea0-3855db48e241"
      },
      "execution_count": 12,
      "outputs": [
        {
          "output_type": "stream",
          "name": "stdout",
          "text": [
            "sepal length (cm): 0.0382\n",
            "sepal width (cm): 0.0000\n",
            "petal length (cm): 0.0685\n",
            "petal width (cm): 0.8933\n"
          ]
        }
      ]
    },
    {
      "cell_type": "code",
      "source": [
        "#26. Write a Python program to train a Decision Tree Regressor with max_depth=5 and compare its performance with an unrestricted tree\n",
        "reg_restricted = DecisionTreeRegressor(max_depth=5)\n",
        "reg_full = DecisionTreeRegressor()\n",
        "\n",
        "reg_restricted.fit(X_train, y_train)\n",
        "reg_full.fit(X_train, y_train)\n",
        "\n",
        "print(\"MSE (max_depth=5):\", mean_squared_error(y_test, reg_restricted.predict(X_test)))\n",
        "print(\"MSE (full):\", mean_squared_error(y_test, reg_full.predict(X_test)))\n"
      ],
      "metadata": {
        "colab": {
          "base_uri": "https://localhost:8080/"
        },
        "id": "cyjyWaiYtt0d",
        "outputId": "28bee5c1-d757-4558-da0d-350206f30c9a"
      },
      "execution_count": 13,
      "outputs": [
        {
          "output_type": "stream",
          "name": "stdout",
          "text": [
            "MSE (max_depth=5): 0.0\n",
            "MSE (full): 0.0\n"
          ]
        }
      ]
    },
    {
      "cell_type": "code",
      "source": [
        "#27. Write a Python program to train a Decision Tree Classifier, apply Cost Complexity Pruning (CCP), and visualize its effect on accuracy\n",
        "path = clf.cost_complexity_pruning_path(X_train, y_train)\n",
        "ccp_alphas = path.ccp_alphas\n",
        "\n",
        "acc = []\n",
        "for alpha in ccp_alphas:\n",
        "    clf_pruned = DecisionTreeClassifier(ccp_alpha=alpha)\n",
        "    clf_pruned.fit(X_train, y_train)\n",
        "    acc.append(accuracy_score(y_test, clf_pruned.predict(X_test)))\n",
        "\n",
        "import matplotlib.pyplot as plt\n",
        "plt.plot(ccp_alphas, acc)\n",
        "plt.xlabel(\"ccp_alpha\")\n",
        "plt.ylabel(\"Accuracy\")\n",
        "plt.title(\"Effect of CCP on Accuracy\")\n",
        "plt.show()\n"
      ],
      "metadata": {
        "colab": {
          "base_uri": "https://localhost:8080/",
          "height": 472
        },
        "id": "NNhB_iFvtt2x",
        "outputId": "ce154bf8-7ae1-46be-a118-557dac3cd3b3"
      },
      "execution_count": 14,
      "outputs": [
        {
          "output_type": "display_data",
          "data": {
            "text/plain": [
              "<Figure size 640x480 with 1 Axes>"
            ],
            "image/png": "[encoded data removed]"
          },
          "metadata": {}
        }
      ]
    },
    {
      "cell_type": "code",
      "source": [
        "#28. Write a Python program to train a Decision Tree Classifier and evaluate its performance using Precision, Recall, and F1-Score\n",
        "from sklearn.metrics import classification_report\n",
        "\n",
        "clf = DecisionTreeClassifier()\n",
        "clf.fit(X_train, y_train)\n",
        "y_pred = clf.predict(X_test)\n",
        "print(classification_report(y_test, y_pred, target_names=iris.target_names))\n"
      ],
      "metadata": {
        "colab": {
          "base_uri": "https://localhost:8080/"
        },
        "id": "jHxnhKH6tt47",
        "outputId": "247c9838-cc99-48f8-f142-51daba622a96"
      },
      "execution_count": 15,
      "outputs": [
        {
          "output_type": "stream",
          "name": "stdout",
          "text": [
            "              precision    recall  f1-score   support\n",
            "\n",
            "      setosa       1.00      1.00      1.00        19\n",
            "  versicolor       1.00      1.00      1.00        13\n",
            "   virginica       1.00      1.00      1.00        13\n",
            "\n",
            "    accuracy                           1.00        45\n",
            "   macro avg       1.00      1.00      1.00        45\n",
            "weighted avg       1.00      1.00      1.00        45\n",
            "\n"
          ]
        }
      ]
    },
    {
      "cell_type": "code",
      "source": [
        "#29. Write a Python program to train a Decision Tree Classifier and visualize the confusion matrix using seaborn\n",
        "from sklearn.metrics import confusion_matrix\n",
        "import seaborn as sns\n",
        "import matplotlib.pyplot as plt\n",
        "\n",
        "conf_matrix = confusion_matrix(y_test, y_pred)\n",
        "sns.heatmap(conf_matrix, annot=True, fmt='d', cmap='Blues',\n",
        "            xticklabels=iris.target_names, yticklabels=iris.target_names)\n",
        "plt.xlabel(\"Predicted\")\n",
        "plt.ylabel(\"Actual\")\n",
        "plt.title(\"Confusion Matrix\")\n",
        "plt.show()\n"
      ],
      "metadata": {
        "colab": {
          "base_uri": "https://localhost:8080/",
          "height": 472
        },
        "id": "lxTKgKR1tt8Y",
        "outputId": "5393892c-5b0a-4e19-d450-ad5948a3749d"
      },
      "execution_count": 16,
      "outputs": [
        {
          "output_type": "display_data",
          "data": {
            "text/plain": [
              "<Figure size 640x480 with 2 Axes>"
            ],
            "image/png": "[encoded data removed]"
          },
          "metadata": {}
        }
      ]
    },
    {
      "cell_type": "code",
      "source": [
        "#30. Write a Python program to train a Decision Tree Classifier and use GridSearchCV to find the optimal values for max_depth and min_samples_split.\n",
        "\n",
        "\n",
        "from sklearn.model_selection import GridSearchCV\n",
        "\n",
        "param_grid = {\n",
        "    'max_depth': [2, 3, 4, 5, None],\n",
        "    'min_samples_split': [2, 5, 10]\n",
        "}\n",
        "grid_search = GridSearchCV(DecisionTreeClassifier(), param_grid, cv=5, scoring='accuracy')\n",
        "grid_search.fit(X_train, y_train)\n",
        "\n",
        "print(\"Best Parameters:\", grid_search.best_params_)\n",
        "print(\"Best Cross-Validation Score:\", grid_search.best_score_)\n"
      ],
      "metadata": {
        "colab": {
          "base_uri": "https://localhost:8080/"
        },
        "id": "Q2PwY0EItuGG",
        "outputId": "69599605-3b57-454e-b274-1783dd4a506d"
      },
      "execution_count": 17,
      "outputs": [
        {
          "output_type": "stream",
          "name": "stdout",
          "text": [
            "Best Parameters: {'max_depth': 4, 'min_samples_split': 10}\n",
            "Best Cross-Validation Score: 0.9428571428571428\n"
          ]
        }
      ]
    },
    {
      "cell_type": "code",
      "source": [],
      "metadata": {
        "id": "YC6TRvAjvbxl"
      },
      "execution_count": null,
      "outputs": []
    }
  ]
}